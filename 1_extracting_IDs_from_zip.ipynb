{
 "cells": [
  {
   "cell_type": "markdown",
   "metadata": {
    "toc": true
   },
   "source": [
    "<h1>Table of Contents<span class=\"tocSkip\"></span></h1>\n",
    "<div class=\"toc\"><ul class=\"toc-item\"><li><span><a href=\"#Get-the-directories-within-the-zip-files-to-extract\" data-toc-modified-id=\"Get-the-directories-within-the-zip-files-to-extract-1\"><span class=\"toc-item-num\">1&nbsp;&nbsp;</span>Get the directories within the zip files to extract</a></span></li><li><span><a href=\"#Extracting-sample-information-(aka-metadata)-and-BIOM-files\" data-toc-modified-id=\"Extracting-sample-information-(aka-metadata)-and-BIOM-files-2\"><span class=\"toc-item-num\">2&nbsp;&nbsp;</span>Extracting sample information (aka metadata) and BIOM files</a></span></li></ul></div>"
   ]
  },
  {
   "cell_type": "code",
   "execution_count": 1,
   "metadata": {},
   "outputs": [],
   "source": [
    "import pandas as pd\n",
    "import os\n",
    "import subprocess"
   ]
  },
  {
   "cell_type": "markdown",
   "metadata": {},
   "source": [
    "# Get the directories within the zip files to extract"
   ]
  },
  {
   "cell_type": "code",
   "execution_count": 2,
   "metadata": {},
   "outputs": [
    {
     "data": {
      "text/plain": [
       "'/Volumes/NGG_TFAILY_LAB_1/PMI'"
      ]
     },
     "execution_count": 2,
     "metadata": {},
     "output_type": "execute_result"
    }
   ],
   "source": [
    "pwd"
   ]
  },
  {
   "cell_type": "code",
   "execution_count": 3,
   "metadata": {},
   "outputs": [
    {
     "name": "stdout",
     "output_type": "stream",
     "text": [
      "7\n"
     ]
    }
   ],
   "source": [
    "df = pd.read_csv('Literature_Sources-Sheet1.csv')\n",
    "df = df[(~df['StudyID'].isna()) & (df['ID Final table'] != '-')]\n",
    "df['StudyID'] = df['StudyID'].astype(int).astype(str)\n",
    "list_dirs_to_extract = list(zip(df['StudyID'], df['ID Final table']))\n",
    "print(len(list_dirs_to_extract))"
   ]
  },
  {
   "cell_type": "markdown",
   "metadata": {},
   "source": [
    "# Extracting sample information (aka metadata) and BIOM files"
   ]
  },
  {
   "cell_type": "code",
   "execution_count": 4,
   "metadata": {},
   "outputs": [
    {
     "name": "stdout",
     "output_type": "stream",
     "text": [
      "('1609', '45905')\n",
      "('714', '46682')\n",
      "('10141', '44906')\n",
      "('10141', '44878')\n",
      "('10143', '45990')\n",
      "('10143', '46002')\n",
      "('10321', '47677')\n"
     ]
    }
   ],
   "source": [
    "for d in list_dirs_to_extract:\n",
    "    print(d)\n",
    "    os.chdir(d[0])\n",
    "    cmd_1 = f\"unzip sample_information*\"\n",
    "    subprocess.call(cmd_1, shell=True)\n",
    "    cmd_2 = f'unzip biom_{d[0]}.zip \"BIOM/{d[1]}/*\"'\n",
    "    subprocess.call(cmd_2, shell=True)\n",
    "    # print(cmd_1)\n",
    "    # print(cmd_2)\n",
    "    os.chdir(\"../\")"
   ]
  },
  {
   "cell_type": "code",
   "execution_count": null,
   "metadata": {},
   "outputs": [],
   "source": []
  }
 ],
 "metadata": {
  "kernelspec": {
   "display_name": "Python 3",
   "language": "python",
   "name": "python3"
  },
  "language_info": {
   "codemirror_mode": {
    "name": "ipython",
    "version": 3
   },
   "file_extension": ".py",
   "mimetype": "text/x-python",
   "name": "python",
   "nbconvert_exporter": "python",
   "pygments_lexer": "ipython3",
   "version": "3.6.12"
  },
  "toc": {
   "base_numbering": 1,
   "nav_menu": {},
   "number_sections": true,
   "sideBar": true,
   "skip_h1_title": false,
   "title_cell": "Table of Contents",
   "title_sidebar": "Contents",
   "toc_cell": true,
   "toc_position": {
    "height": "calc(100% - 180px)",
    "left": "10px",
    "top": "150px",
    "width": "198.976px"
   },
   "toc_section_display": true,
   "toc_window_display": false
  },
  "varInspector": {
   "cols": {
    "lenName": 16,
    "lenType": 16,
    "lenVar": 40
   },
   "kernels_config": {
    "python": {
     "delete_cmd_postfix": "",
     "delete_cmd_prefix": "del ",
     "library": "var_list.py",
     "varRefreshCmd": "print(var_dic_list())"
    },
    "r": {
     "delete_cmd_postfix": ") ",
     "delete_cmd_prefix": "rm(",
     "library": "var_list.r",
     "varRefreshCmd": "cat(var_dic_list()) "
    }
   },
   "types_to_exclude": [
    "module",
    "function",
    "builtin_function_or_method",
    "instance",
    "_Feature"
   ],
   "window_display": false
  }
 },
 "nbformat": 4,
 "nbformat_minor": 4
}
