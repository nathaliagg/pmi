{
 "cells": [
  {
   "cell_type": "markdown",
   "metadata": {
    "toc": true
   },
   "source": [
    "<h1>Table of Contents<span class=\"tocSkip\"></span></h1>\n",
    "<div class=\"toc\"><ul class=\"toc-item\"><li><span><a href=\"#How-to-open-this-notebook?\" data-toc-modified-id=\"How-to-open-this-notebook?-1\"><span class=\"toc-item-num\">1&nbsp;&nbsp;</span>How to open this notebook?</a></span></li><li><span><a href=\"#714\" data-toc-modified-id=\"714-2\"><span class=\"toc-item-num\">2&nbsp;&nbsp;</span>714</a></span></li><li><span><a href=\"#1609\" data-toc-modified-id=\"1609-3\"><span class=\"toc-item-num\">3&nbsp;&nbsp;</span>1609</a></span></li><li><span><a href=\"#10141\" data-toc-modified-id=\"10141-4\"><span class=\"toc-item-num\">4&nbsp;&nbsp;</span>10141</a></span></li><li><span><a href=\"#10143\" data-toc-modified-id=\"10143-5\"><span class=\"toc-item-num\">5&nbsp;&nbsp;</span>10143</a></span></li><li><span><a href=\"#Merge-all\" data-toc-modified-id=\"Merge-all-6\"><span class=\"toc-item-num\">6&nbsp;&nbsp;</span>Merge all</a></span></li><li><span><a href=\"#Extract-pmi_control-biom\" data-toc-modified-id=\"Extract-pmi_control-biom-7\"><span class=\"toc-item-num\">7&nbsp;&nbsp;</span>Extract pmi_control biom</a></span></li><li><span><a href=\"#Merge-99_out_taxonomy.txt\" data-toc-modified-id=\"Merge-99_out_taxonomy.txt-8\"><span class=\"toc-item-num\">8&nbsp;&nbsp;</span>Merge 99_out_taxonomy.txt</a></span></li></ul></div>"
   ]
  },
  {
   "cell_type": "markdown",
   "metadata": {},
   "source": [
    "# How to open this notebook?"
   ]
  },
  {
   "cell_type": "markdown",
   "metadata": {},
   "source": [
    "Need to use Qiime2, so need to open a notebook inside a conda environment:\n",
    "\n",
    "```\n",
    "[nathalia] $  conda activate qiime2-2020.11\n",
    "\n",
    "(qiime2-2020.11) [nathalia] $  jnotebook \n",
    "```\n",
    "\n",
    "Open this notebook - Bash kernel."
   ]
  },
  {
   "cell_type": "code",
   "execution_count": 1,
   "metadata": {},
   "outputs": [
    {
     "name": "stdout",
     "output_type": "stream",
     "text": [
      "/Volumes/NGG_TFAILY_LAB_1/PMI\n"
     ]
    }
   ],
   "source": [
    "pwd"
   ]
  },
  {
   "cell_type": "markdown",
   "metadata": {},
   "source": [
    "# 714"
   ]
  },
  {
   "cell_type": "code",
   "execution_count": 2,
   "metadata": {},
   "outputs": [
    {
     "name": "stdout",
     "output_type": "stream",
     "text": [
      "\u001b[32mImported 714/BIOM/46682/otu_table.biom as BIOMV210Format to 714/feature-table.qza\u001b[0m\n"
     ]
    }
   ],
   "source": [
    "qiime tools import \\\n",
    "    --input-path 714/BIOM/46682/otu_table.biom \\\n",
    "    --type 'FeatureTable[Frequency]' \\\n",
    "    --input-format BIOMV210Format \\\n",
    "    --output-path 714/feature-table.qza"
   ]
  },
  {
   "cell_type": "code",
   "execution_count": 3,
   "metadata": {},
   "outputs": [
    {
     "name": "stdout",
     "output_type": "stream",
     "text": [
      "\u001b[32mSaved FeatureTable[Frequency] to: 714/feature-table_filtered.qza\u001b[0m\n"
     ]
    }
   ],
   "source": [
    "qiime feature-table filter-samples \\\n",
    "  --i-table 714/feature-table.qza \\\n",
    "  --m-metadata-file 714/templates/samples_to_keep_714.tsv \\\n",
    "  --o-filtered-table 714/feature-table_filtered.qza"
   ]
  },
  {
   "cell_type": "markdown",
   "metadata": {},
   "source": [
    "# 1609"
   ]
  },
  {
   "cell_type": "code",
   "execution_count": 4,
   "metadata": {},
   "outputs": [
    {
     "name": "stdout",
     "output_type": "stream",
     "text": [
      "\u001b[32mImported 1609/BIOM/45905/otu_table.biom as BIOMV210Format to 1609/feature-table.qza\u001b[0m\n"
     ]
    }
   ],
   "source": [
    "qiime tools import \\\n",
    "    --input-path 1609/BIOM/45905/otu_table.biom \\\n",
    "    --type 'FeatureTable[Frequency]' \\\n",
    "    --input-format BIOMV210Format \\\n",
    "    --output-path 1609/feature-table.qza"
   ]
  },
  {
   "cell_type": "code",
   "execution_count": 5,
   "metadata": {},
   "outputs": [
    {
     "name": "stdout",
     "output_type": "stream",
     "text": [
      "\u001b[32mSaved FeatureTable[Frequency] to: 1609/feature-table_filtered.qza\u001b[0m\n"
     ]
    }
   ],
   "source": [
    "qiime feature-table filter-samples \\\n",
    "  --i-table 1609/feature-table.qza \\\n",
    "  --m-metadata-file 1609/templates/samples_to_keep_1609.tsv \\\n",
    "  --o-filtered-table 1609/feature-table_filtered.qza"
   ]
  },
  {
   "cell_type": "markdown",
   "metadata": {},
   "source": [
    "# 10141"
   ]
  },
  {
   "cell_type": "code",
   "execution_count": 6,
   "metadata": {},
   "outputs": [
    {
     "name": "stdout",
     "output_type": "stream",
     "text": [
      "\u001b[32mImported 10141/BIOM/44878/otu_table.biom as BIOMV210Format to 10141/feature-table_44878.qza\u001b[0m\n"
     ]
    }
   ],
   "source": [
    "qiime tools import \\\n",
    "    --input-path 10141/BIOM/44878/otu_table.biom \\\n",
    "    --type 'FeatureTable[Frequency]' \\\n",
    "    --input-format BIOMV210Format \\\n",
    "    --output-path 10141/feature-table_44878.qza"
   ]
  },
  {
   "cell_type": "code",
   "execution_count": 7,
   "metadata": {},
   "outputs": [
    {
     "name": "stdout",
     "output_type": "stream",
     "text": [
      "\u001b[32mImported 10141/BIOM/44906/otu_table.biom as BIOMV210Format to 10141/feature-table_44906.qza\u001b[0m\n"
     ]
    }
   ],
   "source": [
    "qiime tools import \\\n",
    "    --input-path 10141/BIOM/44906/otu_table.biom \\\n",
    "    --type 'FeatureTable[Frequency]' \\\n",
    "    --input-format BIOMV210Format \\\n",
    "    --output-path 10141/feature-table_44906.qza"
   ]
  },
  {
   "cell_type": "code",
   "execution_count": 8,
   "metadata": {},
   "outputs": [
    {
     "name": "stdout",
     "output_type": "stream",
     "text": [
      "\u001b[32mSaved FeatureTable[Frequency] to: 10141/feature-table_merged.qza\u001b[0m\n"
     ]
    }
   ],
   "source": [
    "qiime feature-table merge \\\n",
    "    --i-tables 10141/feature-table_44878.qza \\\n",
    "    --i-tables 10141/feature-table_44906.qza \\\n",
    "    --p-overlap-method sum \\\n",
    "    --o-merged-table 10141/feature-table_merged.qza"
   ]
  },
  {
   "cell_type": "code",
   "execution_count": 9,
   "metadata": {},
   "outputs": [
    {
     "name": "stdout",
     "output_type": "stream",
     "text": [
      "\u001b[32mSaved FeatureTable[Frequency] to: 10141/feature-table_filtered.qza\u001b[0m\n"
     ]
    }
   ],
   "source": [
    "qiime feature-table filter-samples \\\n",
    "  --i-table 10141/feature-table_merged.qza \\\n",
    "  --m-metadata-file 10141/templates/samples_to_keep_10141.tsv \\\n",
    "  --o-filtered-table 10141/feature-table_filtered.qza"
   ]
  },
  {
   "cell_type": "markdown",
   "metadata": {},
   "source": [
    "# 10143"
   ]
  },
  {
   "cell_type": "code",
   "execution_count": 10,
   "metadata": {},
   "outputs": [
    {
     "name": "stdout",
     "output_type": "stream",
     "text": [
      "\u001b[32mImported 10143/BIOM/45990/otu_table.biom as BIOMV210Format to 10143/feature-table_45990.qza\u001b[0m\n"
     ]
    }
   ],
   "source": [
    "qiime tools import \\\n",
    "    --input-path 10143/BIOM/45990/otu_table.biom \\\n",
    "    --type 'FeatureTable[Frequency]' \\\n",
    "    --input-format BIOMV210Format \\\n",
    "    --output-path 10143/feature-table_45990.qza"
   ]
  },
  {
   "cell_type": "code",
   "execution_count": 11,
   "metadata": {},
   "outputs": [
    {
     "name": "stdout",
     "output_type": "stream",
     "text": [
      "\u001b[32mImported 10143/BIOM/46002/otu_table.biom as BIOMV210Format to 10143/feature-table_46002.qza\u001b[0m\n"
     ]
    }
   ],
   "source": [
    "qiime tools import \\\n",
    "    --input-path 10143/BIOM/46002/otu_table.biom \\\n",
    "    --type 'FeatureTable[Frequency]' \\\n",
    "    --input-format BIOMV210Format \\\n",
    "    --output-path 10143/feature-table_46002.qza"
   ]
  },
  {
   "cell_type": "code",
   "execution_count": 12,
   "metadata": {},
   "outputs": [
    {
     "name": "stdout",
     "output_type": "stream",
     "text": [
      "\u001b[32mSaved FeatureTable[Frequency] to: 10143/feature-table_merged.qza\u001b[0m\n"
     ]
    }
   ],
   "source": [
    "qiime feature-table merge \\\n",
    "    --i-tables 10143/feature-table_45990.qza \\\n",
    "    --i-tables 10143/feature-table_46002.qza \\\n",
    "    --p-overlap-method sum \\\n",
    "    --o-merged-table 10143/feature-table_merged.qza"
   ]
  },
  {
   "cell_type": "code",
   "execution_count": 13,
   "metadata": {},
   "outputs": [
    {
     "name": "stdout",
     "output_type": "stream",
     "text": [
      "\u001b[32mSaved FeatureTable[Frequency] to: 10143/feature-table_filtered.qza\u001b[0m\n"
     ]
    }
   ],
   "source": [
    "qiime feature-table filter-samples \\\n",
    "  --i-table 10143/feature-table_merged.qza \\\n",
    "  --m-metadata-file 10143/templates/samples_to_keep_10143.tsv \\\n",
    "  --o-filtered-table 10143/feature-table_filtered.qza"
   ]
  },
  {
   "cell_type": "markdown",
   "metadata": {},
   "source": [
    "# Merge all "
   ]
  },
  {
   "cell_type": "code",
   "execution_count": 14,
   "metadata": {
    "scrolled": true
   },
   "outputs": [
    {
     "name": "stdout",
     "output_type": "stream",
     "text": [
      "\u001b[32mSaved FeatureTable[Frequency] to: pmi_control_feature-table.qza\u001b[0m\n"
     ]
    }
   ],
   "source": [
    "qiime feature-table merge \\\n",
    "    --i-tables 714/feature-table_filtered.qza \\\n",
    "    --i-tables 1609/feature-table_filtered.qza \\\n",
    "    --i-tables 10141/feature-table_filtered.qza \\\n",
    "    --i-tables 10143/feature-table_filtered.qza \\\n",
    "    --p-overlap-method sum \\\n",
    "    --o-merged-table pmi_control_feature-table.qza"
   ]
  },
  {
   "cell_type": "markdown",
   "metadata": {},
   "source": [
    "# Extract pmi_control biom"
   ]
  },
  {
   "cell_type": "code",
   "execution_count": 15,
   "metadata": {
    "collapsed": true
   },
   "outputs": [
    {
     "name": "stdout",
     "output_type": "stream",
     "text": [
      "Archive:  pmi_control_feature-table.qza\n",
      "  inflating: 95347b54-fc9f-4f83-b219-4cae5039cd7f/metadata.yaml  \n",
      "  inflating: 95347b54-fc9f-4f83-b219-4cae5039cd7f/checksums.md5  \n",
      "  inflating: 95347b54-fc9f-4f83-b219-4cae5039cd7f/VERSION  \n",
      "  inflating: 95347b54-fc9f-4f83-b219-4cae5039cd7f/provenance/metadata.yaml  \n",
      "  inflating: 95347b54-fc9f-4f83-b219-4cae5039cd7f/provenance/citations.bib  \n",
      "  inflating: 95347b54-fc9f-4f83-b219-4cae5039cd7f/provenance/VERSION  \n",
      "  inflating: 95347b54-fc9f-4f83-b219-4cae5039cd7f/provenance/artifacts/48db3f5f-6c93-44aa-b98f-ead9af7b6df8/metadata.yaml  \n",
      "  inflating: 95347b54-fc9f-4f83-b219-4cae5039cd7f/provenance/artifacts/48db3f5f-6c93-44aa-b98f-ead9af7b6df8/citations.bib  \n",
      "  inflating: 95347b54-fc9f-4f83-b219-4cae5039cd7f/provenance/artifacts/48db3f5f-6c93-44aa-b98f-ead9af7b6df8/VERSION  \n",
      "  inflating: 95347b54-fc9f-4f83-b219-4cae5039cd7f/provenance/artifacts/48db3f5f-6c93-44aa-b98f-ead9af7b6df8/action/action.yaml  \n",
      "  inflating: 95347b54-fc9f-4f83-b219-4cae5039cd7f/provenance/artifacts/0a587a32-bb65-4efd-8c21-3656baf9ae64/metadata.yaml  \n",
      "  inflating: 95347b54-fc9f-4f83-b219-4cae5039cd7f/provenance/artifacts/0a587a32-bb65-4efd-8c21-3656baf9ae64/citations.bib  \n",
      "  inflating: 95347b54-fc9f-4f83-b219-4cae5039cd7f/provenance/artifacts/0a587a32-bb65-4efd-8c21-3656baf9ae64/VERSION  \n",
      "  inflating: 95347b54-fc9f-4f83-b219-4cae5039cd7f/provenance/artifacts/0a587a32-bb65-4efd-8c21-3656baf9ae64/action/action.yaml  \n",
      "  inflating: 95347b54-fc9f-4f83-b219-4cae5039cd7f/provenance/artifacts/4557977a-dda4-4419-a5a3-ebbebb5d0881/metadata.yaml  \n",
      "  inflating: 95347b54-fc9f-4f83-b219-4cae5039cd7f/provenance/artifacts/4557977a-dda4-4419-a5a3-ebbebb5d0881/citations.bib  \n",
      "  inflating: 95347b54-fc9f-4f83-b219-4cae5039cd7f/provenance/artifacts/4557977a-dda4-4419-a5a3-ebbebb5d0881/VERSION  \n",
      "  inflating: 95347b54-fc9f-4f83-b219-4cae5039cd7f/provenance/artifacts/4557977a-dda4-4419-a5a3-ebbebb5d0881/action/action.yaml  \n",
      "  inflating: 95347b54-fc9f-4f83-b219-4cae5039cd7f/provenance/artifacts/26e5b03b-b6e0-4f18-b387-42976825e4dc/metadata.yaml  \n",
      "  inflating: 95347b54-fc9f-4f83-b219-4cae5039cd7f/provenance/artifacts/26e5b03b-b6e0-4f18-b387-42976825e4dc/citations.bib  \n",
      "  inflating: 95347b54-fc9f-4f83-b219-4cae5039cd7f/provenance/artifacts/26e5b03b-b6e0-4f18-b387-42976825e4dc/VERSION  \n",
      "  inflating: 95347b54-fc9f-4f83-b219-4cae5039cd7f/provenance/artifacts/26e5b03b-b6e0-4f18-b387-42976825e4dc/action/action.yaml  \n",
      "  inflating: 95347b54-fc9f-4f83-b219-4cae5039cd7f/provenance/artifacts/b08ebc1a-14bc-4225-9974-fc9f00c8f3cf/metadata.yaml  \n",
      "  inflating: 95347b54-fc9f-4f83-b219-4cae5039cd7f/provenance/artifacts/b08ebc1a-14bc-4225-9974-fc9f00c8f3cf/citations.bib  \n",
      "  inflating: 95347b54-fc9f-4f83-b219-4cae5039cd7f/provenance/artifacts/b08ebc1a-14bc-4225-9974-fc9f00c8f3cf/VERSION  \n",
      "  inflating: 95347b54-fc9f-4f83-b219-4cae5039cd7f/provenance/artifacts/b08ebc1a-14bc-4225-9974-fc9f00c8f3cf/action/action.yaml  \n",
      "  inflating: 95347b54-fc9f-4f83-b219-4cae5039cd7f/provenance/artifacts/68d593ef-98ad-4ee6-bad1-0e24c71b900d/metadata.yaml  \n",
      "  inflating: 95347b54-fc9f-4f83-b219-4cae5039cd7f/provenance/artifacts/68d593ef-98ad-4ee6-bad1-0e24c71b900d/citations.bib  \n",
      "  inflating: 95347b54-fc9f-4f83-b219-4cae5039cd7f/provenance/artifacts/68d593ef-98ad-4ee6-bad1-0e24c71b900d/VERSION  \n",
      "  inflating: 95347b54-fc9f-4f83-b219-4cae5039cd7f/provenance/artifacts/68d593ef-98ad-4ee6-bad1-0e24c71b900d/action/action.yaml  \n",
      "  inflating: 95347b54-fc9f-4f83-b219-4cae5039cd7f/provenance/artifacts/68d593ef-98ad-4ee6-bad1-0e24c71b900d/action/metadata.tsv  \n",
      "  inflating: 95347b54-fc9f-4f83-b219-4cae5039cd7f/provenance/artifacts/9748ab21-4dea-48f2-98f7-98e28219810a/metadata.yaml  \n",
      "  inflating: 95347b54-fc9f-4f83-b219-4cae5039cd7f/provenance/artifacts/9748ab21-4dea-48f2-98f7-98e28219810a/citations.bib  \n",
      "  inflating: 95347b54-fc9f-4f83-b219-4cae5039cd7f/provenance/artifacts/9748ab21-4dea-48f2-98f7-98e28219810a/VERSION  \n",
      "  inflating: 95347b54-fc9f-4f83-b219-4cae5039cd7f/provenance/artifacts/9748ab21-4dea-48f2-98f7-98e28219810a/action/action.yaml  \n",
      "  inflating: 95347b54-fc9f-4f83-b219-4cae5039cd7f/provenance/artifacts/9748ab21-4dea-48f2-98f7-98e28219810a/action/metadata.tsv  \n",
      "  inflating: 95347b54-fc9f-4f83-b219-4cae5039cd7f/provenance/artifacts/ff49b6b4-c0af-4e3b-a3ac-09bef8eab403/metadata.yaml  \n",
      "  inflating: 95347b54-fc9f-4f83-b219-4cae5039cd7f/provenance/artifacts/ff49b6b4-c0af-4e3b-a3ac-09bef8eab403/citations.bib  \n",
      "  inflating: 95347b54-fc9f-4f83-b219-4cae5039cd7f/provenance/artifacts/ff49b6b4-c0af-4e3b-a3ac-09bef8eab403/VERSION  \n",
      "  inflating: 95347b54-fc9f-4f83-b219-4cae5039cd7f/provenance/artifacts/ff49b6b4-c0af-4e3b-a3ac-09bef8eab403/action/action.yaml  \n",
      "  inflating: 95347b54-fc9f-4f83-b219-4cae5039cd7f/provenance/artifacts/b06242b5-83db-496b-a565-aa3dc5c12b93/metadata.yaml  \n",
      "  inflating: 95347b54-fc9f-4f83-b219-4cae5039cd7f/provenance/artifacts/b06242b5-83db-496b-a565-aa3dc5c12b93/citations.bib  \n",
      "  inflating: 95347b54-fc9f-4f83-b219-4cae5039cd7f/provenance/artifacts/b06242b5-83db-496b-a565-aa3dc5c12b93/VERSION  \n",
      "  inflating: 95347b54-fc9f-4f83-b219-4cae5039cd7f/provenance/artifacts/b06242b5-83db-496b-a565-aa3dc5c12b93/action/action.yaml  \n",
      "  inflating: 95347b54-fc9f-4f83-b219-4cae5039cd7f/provenance/artifacts/b763f41d-6e72-4f1e-8fd1-4ce4063d9428/metadata.yaml  \n",
      "  inflating: 95347b54-fc9f-4f83-b219-4cae5039cd7f/provenance/artifacts/b763f41d-6e72-4f1e-8fd1-4ce4063d9428/citations.bib  \n",
      "  inflating: 95347b54-fc9f-4f83-b219-4cae5039cd7f/provenance/artifacts/b763f41d-6e72-4f1e-8fd1-4ce4063d9428/VERSION  \n",
      "  inflating: 95347b54-fc9f-4f83-b219-4cae5039cd7f/provenance/artifacts/b763f41d-6e72-4f1e-8fd1-4ce4063d9428/action/action.yaml  \n",
      "  inflating: 95347b54-fc9f-4f83-b219-4cae5039cd7f/provenance/artifacts/b763f41d-6e72-4f1e-8fd1-4ce4063d9428/action/metadata.tsv  \n",
      "  inflating: 95347b54-fc9f-4f83-b219-4cae5039cd7f/provenance/artifacts/e7ee4f20-7fd9-402f-9cce-2cc07e332414/metadata.yaml  \n",
      "  inflating: 95347b54-fc9f-4f83-b219-4cae5039cd7f/provenance/artifacts/e7ee4f20-7fd9-402f-9cce-2cc07e332414/citations.bib  \n",
      "  inflating: 95347b54-fc9f-4f83-b219-4cae5039cd7f/provenance/artifacts/e7ee4f20-7fd9-402f-9cce-2cc07e332414/VERSION  \n",
      "  inflating: 95347b54-fc9f-4f83-b219-4cae5039cd7f/provenance/artifacts/e7ee4f20-7fd9-402f-9cce-2cc07e332414/action/action.yaml  \n",
      "  inflating: 95347b54-fc9f-4f83-b219-4cae5039cd7f/provenance/artifacts/e7ee4f20-7fd9-402f-9cce-2cc07e332414/action/metadata.tsv  \n",
      "  inflating: 95347b54-fc9f-4f83-b219-4cae5039cd7f/provenance/artifacts/3ccabaa8-920c-48be-9aab-157d9e168d06/metadata.yaml  \n",
      "  inflating: 95347b54-fc9f-4f83-b219-4cae5039cd7f/provenance/artifacts/3ccabaa8-920c-48be-9aab-157d9e168d06/citations.bib  \n",
      "  inflating: 95347b54-fc9f-4f83-b219-4cae5039cd7f/provenance/artifacts/3ccabaa8-920c-48be-9aab-157d9e168d06/VERSION  \n",
      "  inflating: 95347b54-fc9f-4f83-b219-4cae5039cd7f/provenance/artifacts/3ccabaa8-920c-48be-9aab-157d9e168d06/action/action.yaml  \n",
      "  inflating: 95347b54-fc9f-4f83-b219-4cae5039cd7f/provenance/action/action.yaml  \n",
      "  inflating: 95347b54-fc9f-4f83-b219-4cae5039cd7f/data/feature-table.biom  \n"
     ]
    }
   ],
   "source": [
    "unzip -K pmi_control_feature-table.qza"
   ]
  },
  {
   "cell_type": "code",
   "execution_count": 16,
   "metadata": {},
   "outputs": [],
   "source": [
    "mv 95347b54-fc9f-4f83-b219-4cae5039cd7f pmi_control_feature-table_directory"
   ]
  },
  {
   "cell_type": "code",
   "execution_count": 17,
   "metadata": {},
   "outputs": [],
   "source": [
    "biom convert -i pmi_control_feature-table_directory/data/feature-table.biom \\\n",
    "             -o pmi_control_feature-table.tsv --to-tsv"
   ]
  }
 ],
 "metadata": {
  "kernelspec": {
   "display_name": "Bash",
   "language": "bash",
   "name": "bash"
  },
  "language_info": {
   "codemirror_mode": "shell",
   "file_extension": ".sh",
   "mimetype": "text/x-sh",
   "name": "bash"
  },
  "toc": {
   "base_numbering": 1,
   "nav_menu": {},
   "number_sections": true,
   "sideBar": true,
   "skip_h1_title": false,
   "title_cell": "Table of Contents",
   "title_sidebar": "Contents",
   "toc_cell": true,
   "toc_position": {
    "height": "calc(100% - 180px)",
    "left": "10px",
    "top": "150px",
    "width": "254.653px"
   },
   "toc_section_display": true,
   "toc_window_display": true
  },
  "varInspector": {
   "cols": {
    "lenName": 16,
    "lenType": 16,
    "lenVar": 40
   },
   "kernels_config": {
    "python": {
     "delete_cmd_postfix": "",
     "delete_cmd_prefix": "del ",
     "library": "var_list.py",
     "varRefreshCmd": "print(var_dic_list())"
    },
    "r": {
     "delete_cmd_postfix": ") ",
     "delete_cmd_prefix": "rm(",
     "library": "var_list.r",
     "varRefreshCmd": "cat(var_dic_list()) "
    }
   },
   "types_to_exclude": [
    "module",
    "function",
    "builtin_function_or_method",
    "instance",
    "_Feature"
   ],
   "window_display": false
  }
 },
 "nbformat": 4,
 "nbformat_minor": 4
}
